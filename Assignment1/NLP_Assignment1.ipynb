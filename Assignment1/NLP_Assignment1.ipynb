{
 "cells": [
  {
   "cell_type": "markdown",
   "metadata": {},
   "source": [
    "### Import Libraries"
   ]
  },
  {
   "cell_type": "code",
   "execution_count": 1,
   "metadata": {},
   "outputs": [],
   "source": [
    "import numpy as np\n",
    "import pandas as pd\n",
    "import json"
   ]
  },
  {
   "cell_type": "code",
   "execution_count": 24,
   "metadata": {},
   "outputs": [],
   "source": [
    "import nltk\n",
    "from nltk.corpus import state_union\n",
    "from nltk.tokenize import PunktSentenceTokenizer\n",
    "from nltk.tokenize import TreebankWordTokenizer"
   ]
  },
  {
   "cell_type": "markdown",
   "metadata": {},
   "source": [
    "### Read the Dataset\n"
   ]
  },
  {
   "cell_type": "code",
   "execution_count": 16,
   "metadata": {},
   "outputs": [
    {
     "data": {
      "text/html": [
       "<div>\n",
       "<style scoped>\n",
       "    .dataframe tbody tr th:only-of-type {\n",
       "        vertical-align: middle;\n",
       "    }\n",
       "\n",
       "    .dataframe tbody tr th {\n",
       "        vertical-align: top;\n",
       "    }\n",
       "\n",
       "    .dataframe thead th {\n",
       "        text-align: right;\n",
       "    }\n",
       "</style>\n",
       "<table border=\"1\" class=\"dataframe\">\n",
       "  <thead>\n",
       "    <tr style=\"text-align: right;\">\n",
       "      <th></th>\n",
       "      <th>author</th>\n",
       "      <th>bibliography</th>\n",
       "      <th>body</th>\n",
       "      <th>title</th>\n",
       "    </tr>\n",
       "  </thead>\n",
       "  <tbody>\n",
       "    <tr>\n",
       "      <th>0</th>\n",
       "      <td>brenckman,m.</td>\n",
       "      <td>j. ae. scs. 25, 1958, 324.</td>\n",
       "      <td>experimental investigation of the aerodynamics...</td>\n",
       "      <td>experimental investigation of the aerodynamics...</td>\n",
       "    </tr>\n",
       "    <tr>\n",
       "      <th>1</th>\n",
       "      <td>ting-yili</td>\n",
       "      <td>department of aeronautical engineering, rensse...</td>\n",
       "      <td>simple shear flow past a flat plate in an inco...</td>\n",
       "      <td>simple shear flow past a flat plate in an inco...</td>\n",
       "    </tr>\n",
       "    <tr>\n",
       "      <th>2</th>\n",
       "      <td>m. b. glauert</td>\n",
       "      <td>department of mathematics, university of manch...</td>\n",
       "      <td>the boundary layer in simple shear flow past a...</td>\n",
       "      <td>the boundary layer in simple shear flow past a...</td>\n",
       "    </tr>\n",
       "    <tr>\n",
       "      <th>3</th>\n",
       "      <td>yen,k.t.</td>\n",
       "      <td>j. ae. scs. 22, 1955, 728.</td>\n",
       "      <td>approximate solutions of the incompressible la...</td>\n",
       "      <td>approximate solutions of the incompressible la...</td>\n",
       "    </tr>\n",
       "    <tr>\n",
       "      <th>4</th>\n",
       "      <td>wasserman,b.</td>\n",
       "      <td>j. ae. scs. 24, 1957, 924.</td>\n",
       "      <td>one-dimensional transient heat conduction into...</td>\n",
       "      <td>one-dimensional transient heat conduction into...</td>\n",
       "    </tr>\n",
       "  </tbody>\n",
       "</table>\n",
       "</div>"
      ],
      "text/plain": [
       "          author                                       bibliography  \\\n",
       "0   brenckman,m.                         j. ae. scs. 25, 1958, 324.   \n",
       "1      ting-yili  department of aeronautical engineering, rensse...   \n",
       "2  m. b. glauert  department of mathematics, university of manch...   \n",
       "3       yen,k.t.                         j. ae. scs. 22, 1955, 728.   \n",
       "4   wasserman,b.                         j. ae. scs. 24, 1957, 924.   \n",
       "\n",
       "                                                body  \\\n",
       "0  experimental investigation of the aerodynamics...   \n",
       "1  simple shear flow past a flat plate in an inco...   \n",
       "2  the boundary layer in simple shear flow past a...   \n",
       "3  approximate solutions of the incompressible la...   \n",
       "4  one-dimensional transient heat conduction into...   \n",
       "\n",
       "                                               title  \n",
       "0  experimental investigation of the aerodynamics...  \n",
       "1  simple shear flow past a flat plate in an inco...  \n",
       "2  the boundary layer in simple shear flow past a...  \n",
       "3  approximate solutions of the incompressible la...  \n",
       "4  one-dimensional transient heat conduction into...  "
      ]
     },
     "execution_count": 16,
     "metadata": {},
     "output_type": "execute_result"
    }
   ],
   "source": [
    "file = open(r'C:\\Users\\swath\\OneDrive\\Desktop\\Swathi G\\Sem 6\\CS6370\\Assignment 1\\Cranfield Dataset NLP\\cranfield\\cran_docs.json')\n",
    "data = json.load(file) #returns dictionary\n",
    "#data\n",
    "\n",
    "df = pd.json_normalize(data) #read data to DataFrame\n",
    "df = df.drop('id', axis=1)\n",
    "df.head()"
   ]
  },
  {
   "cell_type": "markdown",
   "metadata": {},
   "source": [
    "### Preprocessing"
   ]
  },
  {
   "cell_type": "code",
   "execution_count": 45,
   "metadata": {},
   "outputs": [
    {
     "data": {
      "text/plain": [
       "0       [experimental investigation of the aerodynamic...\n",
       "1       [simple shear flow past a flat plate in an inc...\n",
       "2       [the boundary layer in simple shear flow past ...\n",
       "3       [approximate solutions of the incompressible l...\n",
       "4       [one-dimensional transient heat conduction int...\n",
       "                              ...                        \n",
       "1395    [shear buckling of clamped and simply-supporte...\n",
       "1396    [critical shear stress of an infinitely long s...\n",
       "1397    [stability of rectangular plates under shear a...\n",
       "1398    [buckling of transverse stiffened plates under...\n",
       "1399    [the buckling shear stress of simply-supported...\n",
       "Name: sent_segmented, Length: 1400, dtype: object"
      ]
     },
     "execution_count": 45,
     "metadata": {},
     "output_type": "execute_result"
    }
   ],
   "source": [
    "sent_segmenter = PunktSentenceTokenizer()\n",
    "df['sent_segmented'] = df.apply(lambda x: sent_segmenter.tokenize(x['body']), axis=1)\n",
    "df['sent_segmented']"
   ]
  },
  {
   "cell_type": "code",
   "execution_count": 46,
   "metadata": {},
   "outputs": [
    {
     "data": {
      "text/plain": [
       "['experimental investigation of the aerodynamics of a wing in a slipstream .',\n",
       " 'an experimental study of a wing in a propeller slipstream was made in order to determine the spanwise distribution of the lift increase due to slipstream at different angles of attack of the wing and at different free stream to slipstream velocity ratios .',\n",
       " 'the results were intended in part as an evaluation basis for different theoretical treatments of this problem .',\n",
       " 'the comparative span loading curves, together with supporting evidence, showed that a substantial part of the lift increment produced by the slipstream was due to a /destalling/ or boundary-layer-control effect .',\n",
       " 'the integrated remaining lift increment, after subtracting this destalling lift, was found to agree well with a potential flow theory .',\n",
       " 'an empirical evaluation of the destalling effects was made for the specific configuration of the experiment .']"
      ]
     },
     "execution_count": 46,
     "metadata": {},
     "output_type": "execute_result"
    }
   ],
   "source": [
    "df['sent_segmented'][0]"
   ]
  },
  {
   "cell_type": "code",
   "execution_count": 47,
   "metadata": {},
   "outputs": [
    {
     "data": {
      "text/plain": [
       "0       [experimental, investigation, of, the, aerodyn...\n",
       "1       [simple, shear, flow, past, a, flat, plate, in...\n",
       "2       [the, boundary, layer, in, simple, shear, flow...\n",
       "3       [approximate, solutions, of, the, incompressib...\n",
       "4       [one-dimensional, transient, heat, conduction,...\n",
       "                              ...                        \n",
       "1395    [shear, buckling, of, clamped, and, simply-sup...\n",
       "1396    [critical, shear, stress, of, an, infinitely, ...\n",
       "1397    [stability, of, rectangular, plates, under, sh...\n",
       "1398    [buckling, of, transverse, stiffened, plates, ...\n",
       "1399    [the, buckling, shear, stress, of, simply-supp...\n",
       "Name: word_tokenized_penn, Length: 1400, dtype: object"
      ]
     },
     "execution_count": 47,
     "metadata": {},
     "output_type": "execute_result"
    }
   ],
   "source": [
    "penn_tokenizer = TreebankWordTokenizer()\n",
    "df['word_tokenized_penn'] = ''\n",
    "for i in range(len(df['sent_segmented'])):\n",
    "    sent = []\n",
    "    for j in range(len(df['sent_segmented'][i])):\n",
    "        tokens = penn_tokenizer.tokenize(df['sent_segmented'][i][j])\n",
    "        sent += tokens\n",
    "    df['word_tokenized_penn'][i] = sent \n",
    "\n",
    "df['word_tokenized_penn']"
   ]
  },
  {
   "cell_type": "code",
   "execution_count": 50,
   "metadata": {},
   "outputs": [
    {
     "data": {
      "text/plain": [
       "0       [experimental, investigation, of, the, aerodyn...\n",
       "1       [simple, shear, flow, past, a, flat, plate, in...\n",
       "2       [the, boundary, layer, in, simple, shear, flow...\n",
       "3       [approximate, solutions, of, the, incompressib...\n",
       "4       [one-dimensional, transient, heat, conduction,...\n",
       "                              ...                        \n",
       "1395    [shear, buckling, of, clamped, and, simply-sup...\n",
       "1396    [critical, shear, stress, of, an, infinitely, ...\n",
       "1397    [stability, of, rectangular, plates, under, sh...\n",
       "1398    [buckling, of, transverse, stiffened, plates, ...\n",
       "1399    [the, buckling, shear, stress, of, simply-supp...\n",
       "Name: word_tokenized_simple, Length: 1400, dtype: object"
      ]
     },
     "execution_count": 50,
     "metadata": {},
     "output_type": "execute_result"
    }
   ],
   "source": [
    "df['word_tokenized_simple'] = ''\n",
    "for i in range(len(df['sent_segmented'])):\n",
    "    sent = []\n",
    "    for j in range(len(df['sent_segmented'][i])):\n",
    "        text = df['sent_segmented'][i][j]\n",
    "        tokens = text.split(' ')\n",
    "        sent += tokens\n",
    "    df['word_tokenized_simple'][i] = sent \n",
    "\n",
    "df['word_tokenized_simple']"
   ]
  },
  {
   "cell_type": "code",
   "execution_count": null,
   "metadata": {},
   "outputs": [],
   "source": []
  }
 ],
 "metadata": {
  "kernelspec": {
   "display_name": "Python 3 (ipykernel)",
   "language": "python",
   "name": "python3"
  },
  "language_info": {
   "codemirror_mode": {
    "name": "ipython",
    "version": 3
   },
   "file_extension": ".py",
   "mimetype": "text/x-python",
   "name": "python",
   "nbconvert_exporter": "python",
   "pygments_lexer": "ipython3",
   "version": "3.8.5"
  }
 },
 "nbformat": 4,
 "nbformat_minor": 4
}
